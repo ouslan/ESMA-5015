{
 "cells": [
  {
   "cell_type": "code",
   "execution_count": null,
   "metadata": {},
   "outputs": [],
   "source": [
    "import numpy as np\n",
    "import matplotlib.pyplot as plt\n",
    "# plt.style.use('seaborn-deep')"
   ]
  },
  {
   "cell_type": "code",
   "execution_count": null,
   "metadata": {},
   "outputs": [],
   "source": [
    "import numpy as np\n",
    "import matplotlib.pyplot as plt\n",
    "# plt.style.use('seaborn-deep')\n",
    "\n",
    "rng = np.random.default_rng(seed=787)\n",
    "x = rng.uniform(0,1,1000000)\n",
    "a = 0\n",
    "b = 1\n",
    "\n",
    "data = b * np.tan(np.pi*(x-0.5)) + a\n",
    "data = data[(data>-25) & (data<25)]"
   ]
  },
  {
   "cell_type": "code",
   "execution_count": null,
   "metadata": {},
   "outputs": [],
   "source": [
    "rng = np.random.default_rng(seed=787)\n",
    "x = rng.uniform(0,1,1000000)\n",
    "\n",
    "plt.hist(x, bins=100)\n",
    "\n",
    "plt.show()"
   ]
  },
  {
   "cell_type": "code",
   "execution_count": null,
   "metadata": {},
   "outputs": [],
   "source": [
    "s = rng.standard_cauchy(1000000)\n",
    "\n",
    "s = s[(s>-25) & (s<25)]\n",
    "a,b = 0,1\n",
    "\n",
    "data = b * np.tan(np.pi*(x-0.5)) + a\n",
    "data = data[(data>-25) & (data<25)]\n",
    "plt.hist([data, s], bins=100, label=['Simulated Caucy', 'Actual Caucy'])\n",
    "plt.legend(loc='upper right')\n",
    "plt.show()"
   ]
  },
  {
   "cell_type": "code",
   "execution_count": null,
   "metadata": {},
   "outputs": [],
   "source": [
    "s = rng.standard_cauchy(1000000)\n",
    "\n",
    "s = s[(s>-25) & (s<25)]\n",
    "\n",
    "plt.hist([data, s], bins=100, label=['Simulated Caucy', 'Actual Caucy'])\n",
    "plt.legend(loc='upper right')\n",
    "plt.show()"
   ]
  },
  {
   "cell_type": "code",
   "execution_count": null,
   "metadata": {},
   "outputs": [],
   "source": [
    "import numpy as np\n",
    "import matplotlib.pyplot as plt\n",
    "# plt.style.use('seaborn-deep')\n",
    "\n",
    "rng = np.random.default_rng(seed=787)\n",
    "x = rng.uniform(0,1,1000000)\n",
    "mu, beta = 0, 0.1 \n",
    "\n",
    "data = beta*(-np.log(-np.log(x))+mu)\n",
    "data = data[(data>-1) & (data<1)]"
   ]
  },
  {
   "cell_type": "code",
   "execution_count": null,
   "metadata": {},
   "outputs": [],
   "source": [
    "s = rng.gumbel(mu, beta, 1000000)\n",
    "s = s[(s>-1) & (s<1)]\n",
    "\n",
    "\n",
    "plt.hist([data, s], bins=100, label=['Simulated Gumbel ', 'Actual Gumbel'])\n",
    "plt.legend(loc='upper right')\n",
    "plt.show()"
   ]
  }
 ],
 "metadata": {
  "kernelspec": {
   "display_name": ".venv",
   "language": "python",
   "name": "python3"
  },
  "language_info": {
   "codemirror_mode": {
    "name": "ipython",
    "version": 3
   },
   "file_extension": ".py",
   "mimetype": "text/x-python",
   "name": "python",
   "nbconvert_exporter": "python",
   "pygments_lexer": "ipython3",
   "version": "3.12.9"
  }
 },
 "nbformat": 4,
 "nbformat_minor": 2
}
